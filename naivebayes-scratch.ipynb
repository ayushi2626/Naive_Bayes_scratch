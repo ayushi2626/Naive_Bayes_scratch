{
 "cells": [
  {
   "cell_type": "code",
   "execution_count": 1,
   "id": "5e31dedc",
   "metadata": {
    "_cell_guid": "b1076dfc-b9ad-4769-8c92-a6c4dae69d19",
    "_uuid": "8f2839f25d086af736a60e9eeb907d3b93b6e0e5",
    "execution": {
     "iopub.execute_input": "2022-08-27T18:14:49.125661Z",
     "iopub.status.busy": "2022-08-27T18:14:49.124571Z",
     "iopub.status.idle": "2022-08-27T18:14:50.413252Z",
     "shell.execute_reply": "2022-08-27T18:14:50.412042Z"
    },
    "papermill": {
     "duration": 1.300411,
     "end_time": "2022-08-27T18:14:50.416562",
     "exception": false,
     "start_time": "2022-08-27T18:14:49.116151",
     "status": "completed"
    },
    "tags": []
   },
   "outputs": [],
   "source": [
    "import numpy as np\n",
    "import pandas as pd\n",
    "from matplotlib import pyplot as plt\n",
    "from sklearn.preprocessing import LabelEncoder"
   ]
  },
  {
   "cell_type": "code",
   "execution_count": 2,
   "id": "2622011c",
   "metadata": {
    "execution": {
     "iopub.execute_input": "2022-08-27T18:14:50.425555Z",
     "iopub.status.busy": "2022-08-27T18:14:50.424769Z",
     "iopub.status.idle": "2022-08-27T18:14:50.461774Z",
     "shell.execute_reply": "2022-08-27T18:14:50.460538Z"
    },
    "papermill": {
     "duration": 0.045103,
     "end_time": "2022-08-27T18:14:50.465148",
     "exception": false,
     "start_time": "2022-08-27T18:14:50.420045",
     "status": "completed"
    },
    "tags": []
   },
   "outputs": [
    {
     "data": {
      "text/html": [
       "<div>\n",
       "<style scoped>\n",
       "    .dataframe tbody tr th:only-of-type {\n",
       "        vertical-align: middle;\n",
       "    }\n",
       "\n",
       "    .dataframe tbody tr th {\n",
       "        vertical-align: top;\n",
       "    }\n",
       "\n",
       "    .dataframe thead th {\n",
       "        text-align: right;\n",
       "    }\n",
       "</style>\n",
       "<table border=\"1\" class=\"dataframe\">\n",
       "  <thead>\n",
       "    <tr style=\"text-align: right;\">\n",
       "      <th></th>\n",
       "      <th>outlook</th>\n",
       "      <th>temp</th>\n",
       "      <th>humidity</th>\n",
       "      <th>windy</th>\n",
       "      <th>play</th>\n",
       "    </tr>\n",
       "  </thead>\n",
       "  <tbody>\n",
       "    <tr>\n",
       "      <th>0</th>\n",
       "      <td>sunny</td>\n",
       "      <td>hot</td>\n",
       "      <td>high</td>\n",
       "      <td>False</td>\n",
       "      <td>no</td>\n",
       "    </tr>\n",
       "    <tr>\n",
       "      <th>1</th>\n",
       "      <td>sunny</td>\n",
       "      <td>hot</td>\n",
       "      <td>high</td>\n",
       "      <td>True</td>\n",
       "      <td>no</td>\n",
       "    </tr>\n",
       "    <tr>\n",
       "      <th>2</th>\n",
       "      <td>overcast</td>\n",
       "      <td>hot</td>\n",
       "      <td>high</td>\n",
       "      <td>False</td>\n",
       "      <td>yes</td>\n",
       "    </tr>\n",
       "    <tr>\n",
       "      <th>3</th>\n",
       "      <td>rainy</td>\n",
       "      <td>mild</td>\n",
       "      <td>high</td>\n",
       "      <td>False</td>\n",
       "      <td>yes</td>\n",
       "    </tr>\n",
       "    <tr>\n",
       "      <th>4</th>\n",
       "      <td>rainy</td>\n",
       "      <td>cool</td>\n",
       "      <td>normal</td>\n",
       "      <td>False</td>\n",
       "      <td>yes</td>\n",
       "    </tr>\n",
       "  </tbody>\n",
       "</table>\n",
       "</div>"
      ],
      "text/plain": [
       "    outlook  temp humidity  windy play\n",
       "0     sunny   hot     high  False   no\n",
       "1     sunny   hot     high   True   no\n",
       "2  overcast   hot     high  False  yes\n",
       "3     rainy  mild     high  False  yes\n",
       "4     rainy  cool   normal  False  yes"
      ]
     },
     "execution_count": 2,
     "metadata": {},
     "output_type": "execute_result"
    }
   ],
   "source": [
    "data = pd.read_csv(r\"../input/playtennis/PlayTennis.csv\")\n",
    "data.head()"
   ]
  },
  {
   "cell_type": "code",
   "execution_count": 3,
   "id": "85d559c0",
   "metadata": {
    "execution": {
     "iopub.execute_input": "2022-08-27T18:14:50.474442Z",
     "iopub.status.busy": "2022-08-27T18:14:50.473665Z",
     "iopub.status.idle": "2022-08-27T18:14:50.495182Z",
     "shell.execute_reply": "2022-08-27T18:14:50.493565Z"
    },
    "papermill": {
     "duration": 0.029412,
     "end_time": "2022-08-27T18:14:50.498061",
     "exception": false,
     "start_time": "2022-08-27T18:14:50.468649",
     "status": "completed"
    },
    "tags": []
   },
   "outputs": [
    {
     "data": {
      "text/html": [
       "<div>\n",
       "<style scoped>\n",
       "    .dataframe tbody tr th:only-of-type {\n",
       "        vertical-align: middle;\n",
       "    }\n",
       "\n",
       "    .dataframe tbody tr th {\n",
       "        vertical-align: top;\n",
       "    }\n",
       "\n",
       "    .dataframe thead th {\n",
       "        text-align: right;\n",
       "    }\n",
       "</style>\n",
       "<table border=\"1\" class=\"dataframe\">\n",
       "  <thead>\n",
       "    <tr style=\"text-align: right;\">\n",
       "      <th></th>\n",
       "      <th>outlook</th>\n",
       "      <th>temp</th>\n",
       "      <th>humidity</th>\n",
       "      <th>windy</th>\n",
       "      <th>play</th>\n",
       "    </tr>\n",
       "  </thead>\n",
       "  <tbody>\n",
       "    <tr>\n",
       "      <th>0</th>\n",
       "      <td>2</td>\n",
       "      <td>1</td>\n",
       "      <td>0</td>\n",
       "      <td>0</td>\n",
       "      <td>0</td>\n",
       "    </tr>\n",
       "    <tr>\n",
       "      <th>1</th>\n",
       "      <td>2</td>\n",
       "      <td>1</td>\n",
       "      <td>0</td>\n",
       "      <td>1</td>\n",
       "      <td>0</td>\n",
       "    </tr>\n",
       "    <tr>\n",
       "      <th>2</th>\n",
       "      <td>0</td>\n",
       "      <td>1</td>\n",
       "      <td>0</td>\n",
       "      <td>0</td>\n",
       "      <td>1</td>\n",
       "    </tr>\n",
       "    <tr>\n",
       "      <th>3</th>\n",
       "      <td>1</td>\n",
       "      <td>2</td>\n",
       "      <td>0</td>\n",
       "      <td>0</td>\n",
       "      <td>1</td>\n",
       "    </tr>\n",
       "    <tr>\n",
       "      <th>4</th>\n",
       "      <td>1</td>\n",
       "      <td>0</td>\n",
       "      <td>1</td>\n",
       "      <td>0</td>\n",
       "      <td>1</td>\n",
       "    </tr>\n",
       "  </tbody>\n",
       "</table>\n",
       "</div>"
      ],
      "text/plain": [
       "   outlook  temp  humidity  windy  play\n",
       "0        2     1         0      0     0\n",
       "1        2     1         0      1     0\n",
       "2        0     1         0      0     1\n",
       "3        1     2         0      0     1\n",
       "4        1     0         1      0     1"
      ]
     },
     "execution_count": 3,
     "metadata": {},
     "output_type": "execute_result"
    }
   ],
   "source": [
    "# Converting string data to numeric data\n",
    "le = LabelEncoder()\n",
    "label = le.fit_transform(data['outlook'])\n",
    "data[\"outlook\"] = label\n",
    "\n",
    "label2 = le.fit_transform(data[\"temp\"])\n",
    "data[\"temp\"] = label2\n",
    "\n",
    "label3 = le.fit_transform(data[\"humidity\"])\n",
    "data[\"humidity\"] = label3\n",
    "\n",
    "label4 = le.fit_transform(data[\"play\"])\n",
    "data[\"play\"] = label4\n",
    "\n",
    "label5 = le.fit_transform(data[\"windy\"])\n",
    "data[\"windy\"] = label5\n",
    "\n",
    "data.head()"
   ]
  },
  {
   "cell_type": "markdown",
   "id": "a4cf9279",
   "metadata": {
    "papermill": {
     "duration": 0.003152,
     "end_time": "2022-08-27T18:14:50.504833",
     "exception": false,
     "start_time": "2022-08-27T18:14:50.501681",
     "status": "completed"
    },
    "tags": []
   },
   "source": [
    "> * In Naive Bayes alogorithm, we basically compute the result using conditional probablity\n",
    "> * So the training stage includes calculating the conditional proabablity of a feature being a certain value for a given output\n",
    "> * *Note the output in the data here is whether to play or not(0 or 1)*\n",
    "> * Hence we calculate the probablity as follows\n",
    "> * In column temp we have say values 0,1,2\n",
    "> * So we calculate the conditional probablity of this feature given our output is 1 and o and store it for testing phase"
   ]
  },
  {
   "cell_type": "code",
   "execution_count": 4,
   "id": "b5445f25",
   "metadata": {
    "execution": {
     "iopub.execute_input": "2022-08-27T18:14:50.513960Z",
     "iopub.status.busy": "2022-08-27T18:14:50.513455Z",
     "iopub.status.idle": "2022-08-27T18:14:50.522157Z",
     "shell.execute_reply": "2022-08-27T18:14:50.520728Z"
    },
    "papermill": {
     "duration": 0.017158,
     "end_time": "2022-08-27T18:14:50.525501",
     "exception": false,
     "start_time": "2022-08-27T18:14:50.508343",
     "status": "completed"
    },
    "tags": []
   },
   "outputs": [
    {
     "name": "stdout",
     "output_type": "stream",
     "text": [
      "(14, 5)\n",
      "Training data [[2 1 0 0 0]\n",
      " [2 1 0 1 0]\n",
      " [0 1 0 0 1]\n",
      " [1 2 0 0 1]\n",
      " [1 0 1 0 1]]\n",
      "test data [[2 0 0 1]]\n"
     ]
    }
   ],
   "source": [
    "test = [[2,0,0,1]]\n",
    "test = np.array(test)\n",
    "data = data.to_numpy()\n",
    "print(data.shape)\n",
    "print(\"Training data\",data[:5,:])\n",
    "print('test data',test)"
   ]
  },
  {
   "cell_type": "code",
   "execution_count": 5,
   "id": "d8c8c660",
   "metadata": {
    "execution": {
     "iopub.execute_input": "2022-08-27T18:14:50.536057Z",
     "iopub.status.busy": "2022-08-27T18:14:50.534782Z",
     "iopub.status.idle": "2022-08-27T18:14:50.548378Z",
     "shell.execute_reply": "2022-08-27T18:14:50.547024Z"
    },
    "papermill": {
     "duration": 0.021524,
     "end_time": "2022-08-27T18:14:50.551122",
     "exception": false,
     "start_time": "2022-08-27T18:14:50.529598",
     "status": "completed"
    },
    "tags": []
   },
   "outputs": [
    {
     "name": "stdout",
     "output_type": "stream",
     "text": [
      "[[[[0.4444444444444444, 0.14285714285714285]], [[0.3333333333333333, 0.4]], [[0.2222222222222222, 0.6]]], [[[0.3333333333333333, 0.2]], [[0.2222222222222222, 0.4]], [[0.4444444444444444, 0.4]]], [[[0.3333333333333333, 0.8]], [[0.6666666666666666, 0.2]]], [[[0.6666666666666666, 0.4]], [[0.3333333333333333, 0.6]]]]\n"
     ]
    }
   ],
   "source": [
    "# no we calculate the probablity of the features \n",
    "dummy=[]\n",
    "for i in range(data.shape[1]-1):\n",
    "    l3=[]\n",
    "    for k in np.unique(data[:,i]):\n",
    "        tt=0\n",
    "        tf=0\n",
    "        true=0\n",
    "        false=0\n",
    "        l2=[]\n",
    "        for j in range(data.shape[0]):\n",
    "            if(data[j,4]==1):\n",
    "                tt+=1\n",
    "            if(data[j,4]==0):\n",
    "                tf+=1\n",
    "            if(data[j,4]==1 and data[j,i]==k):\n",
    "                true+=1\n",
    "            if(data[j,4]==0 and data[j,i]==k):\n",
    "                false+=1\n",
    "        if(false==0):\n",
    "            false = 1\n",
    "            tf = tf+len(np.unique(data[:,4]))\n",
    "        if(true==0):\n",
    "            true = 1\n",
    "            tt = tt+len(np.unique(data[:,4]))\n",
    "        l2.append([true/tt,false/tf])\n",
    "        l3.append(l2)\n",
    "    dummy.append(l3)\n",
    "print(dummy)"
   ]
  },
  {
   "cell_type": "markdown",
   "id": "77e2a8f3",
   "metadata": {
    "papermill": {
     "duration": 0.00336,
     "end_time": "2022-08-27T18:14:50.558308",
     "exception": false,
     "start_time": "2022-08-27T18:14:50.554948",
     "status": "completed"
    },
    "tags": []
   },
   "source": [
    "* *These are the values of the conditional probablities with respect to a given output*\n",
    "* *Now there can be a case when the probablity is 0. So we need to smoothen the data*\n",
    "* *This means we need to add a very small number to the numerator and denominator incase the false or true values are 0*"
   ]
  },
  {
   "cell_type": "code",
   "execution_count": 6,
   "id": "fbc94602",
   "metadata": {
    "execution": {
     "iopub.execute_input": "2022-08-27T18:14:50.567808Z",
     "iopub.status.busy": "2022-08-27T18:14:50.567130Z",
     "iopub.status.idle": "2022-08-27T18:14:50.575913Z",
     "shell.execute_reply": "2022-08-27T18:14:50.574900Z"
    },
    "papermill": {
     "duration": 0.017245,
     "end_time": "2022-08-27T18:14:50.579285",
     "exception": false,
     "start_time": "2022-08-27T18:14:50.562040",
     "status": "completed"
    },
    "tags": []
   },
   "outputs": [
    {
     "name": "stdout",
     "output_type": "stream",
     "text": [
      "They wouldnt play\n"
     ]
    }
   ],
   "source": [
    "net_prob=[]\n",
    "\n",
    "for i in np.unique(data[:,4]):\n",
    "    p=1\n",
    "    for j in range(len(test[0])): \n",
    "        prob = dummy[j][test[0][j]][0][i]\n",
    "        p*=prob\n",
    "    net_prob.append(p)\n",
    "net_prob = np.array(net_prob)\n",
    "\n",
    "x = np.argmax(net_prob)    #the output with the highest probablity will be selected\n",
    "if(x==0):\n",
    "    print(\"They will play\")\n",
    "else:\n",
    "    print(\"They wouldnt play\")"
   ]
  }
 ],
 "metadata": {
  "kernelspec": {
   "display_name": "Python 3",
   "language": "python",
   "name": "python3"
  },
  "language_info": {
   "codemirror_mode": {
    "name": "ipython",
    "version": 3
   },
   "file_extension": ".py",
   "mimetype": "text/x-python",
   "name": "python",
   "nbconvert_exporter": "python",
   "pygments_lexer": "ipython3",
   "version": "3.7.12"
  },
  "papermill": {
   "default_parameters": {},
   "duration": 12.255833,
   "end_time": "2022-08-27T18:14:51.407930",
   "environment_variables": {},
   "exception": null,
   "input_path": "__notebook__.ipynb",
   "output_path": "__notebook__.ipynb",
   "parameters": {},
   "start_time": "2022-08-27T18:14:39.152097",
   "version": "2.3.4"
  }
 },
 "nbformat": 4,
 "nbformat_minor": 5
}
